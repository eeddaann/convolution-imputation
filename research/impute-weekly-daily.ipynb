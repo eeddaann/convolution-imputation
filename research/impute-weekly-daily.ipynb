{
 "cells": [
  {
   "cell_type": "markdown",
   "id": "f01569e0",
   "metadata": {},
   "source": [
    "# Impute Weekly Daily"
   ]
  },
  {
   "cell_type": "code",
   "execution_count": 1,
   "id": "38651758",
   "metadata": {},
   "outputs": [],
   "source": [
    "import pandas as pd\n",
    "import numpy as np\n",
    "import matplotlib.pyplot as plt\n",
    "from astropy.convolution import interpolate_replace_nans, Gaussian2DKernel\n",
    "import sys\n",
    "sys.path.append('../conv_imputer')\n",
    "import gen_synth\n",
    "import impute_weekly"
   ]
  },
  {
   "cell_type": "markdown",
   "id": "b1a55162",
   "metadata": {},
   "source": [
    "## pivoting the time series"
   ]
  },
  {
   "cell_type": "code",
   "execution_count": 2,
   "id": "53740d83",
   "metadata": {},
   "outputs": [
    {
     "name": "stderr",
     "output_type": "stream",
     "text": [
      "E:\\Python\\HRI\\convolution-imputation\\research\\../conv_imputer\\gen_synth.py:6: FutureWarning: 'H' is deprecated and will be removed in a future version, please use 'h' instead.\n",
      "  date_range = pd.date_range(start=start_date, periods=24*7*num_weeks, freq='H')\n"
     ]
    },
    {
     "data": {
      "text/plain": [
       "2023-01-02 00:00:00    4.000000\n",
       "2023-01-02 01:00:00    4.261437\n",
       "2023-01-02 02:00:00    4.437959\n",
       "2023-01-02 03:00:00    4.519890\n",
       "2023-01-02 04:00:00    4.503898\n",
       "                         ...   \n",
       "2023-01-29 19:00:00    2.089548\n",
       "2023-01-29 20:00:00    2.473763\n",
       "2023-01-29 21:00:00    2.881748\n",
       "2023-01-29 22:00:00    3.288499\n",
       "2023-01-29 23:00:00    3.669016\n",
       "Freq: h, Length: 672, dtype: float64"
      ]
     },
     "execution_count": 2,
     "metadata": {},
     "output_type": "execute_result"
    }
   ],
   "source": [
    "data = gen_synth.weekly_daily_signal()\n",
    "data"
   ]
  },
  {
   "cell_type": "code",
   "execution_count": 3,
   "id": "3ce9a471",
   "metadata": {},
   "outputs": [],
   "source": [
    "previous_day = data.shift(-24) \n",
    "next_day = data.shift(24)"
   ]
  },
  {
   "cell_type": "code",
   "execution_count": 4,
   "id": "04a99f3a",
   "metadata": {},
   "outputs": [
    {
     "data": {
      "image/png": "[encoded data removed]",
      "text/plain": [
       "<Figure size 640x480 with 3 Axes>"
      ]
     },
     "metadata": {},
     "output_type": "display_data"
    }
   ],
   "source": [
    "fig, (ax1,ax2,ax3) = plt.subplots(3, 1)\n",
    "fig.suptitle('day before, current day and the day after')\n",
    "ax1.imshow(impute_weekly.get_pivoted_weekly(previous_day).iloc[:,1:], aspect='auto')\n",
    "ax2.imshow(impute_weekly.get_pivoted_weekly(data).iloc[:,1:], aspect='auto')\n",
    "ax3.imshow(impute_weekly.get_pivoted_weekly(next_day).iloc[:,1:], aspect='auto')\n",
    "\n",
    "ax1.set_axis_off()\n",
    "ax2.set_axis_off()\n",
    "ax3.set_axis_off()"
   ]
  },
  {
   "cell_type": "markdown",
   "id": "25037f28",
   "metadata": {},
   "source": [
    "## 3d imputation"
   ]
  },
  {
   "cell_type": "code",
   "execution_count": 5,
   "id": "dd64ebc9",
   "metadata": {},
   "outputs": [],
   "source": [
    "hours_per_day = 24\n",
    "hours_per_week = 7 * hours_per_day\n",
    "number_of_weeks = 4\n",
    "\n",
    "arr = np.zeros((hours_per_day, hours_per_week, number_of_weeks))\n",
    "\n",
    "arr[(0,0,0)] = np.nan # set nan value"
   ]
  },
  {
   "cell_type": "code",
   "execution_count": 6,
   "id": "1c14f53b",
   "metadata": {},
   "outputs": [
    {
     "data": {
      "text/plain": [
       "1"
      ]
     },
     "execution_count": 6,
     "metadata": {},
     "output_type": "execute_result"
    }
   ],
   "source": [
    "np.count_nonzero(arr)"
   ]
  },
  {
   "cell_type": "code",
   "execution_count": 7,
   "id": "b0cde5c9",
   "metadata": {},
   "outputs": [],
   "source": [
    "val = 1/27\n",
    "kernel = np.reshape([1/27]*27,(3,3,3)) # define 3d kernel"
   ]
  },
  {
   "cell_type": "code",
   "execution_count": 8,
   "id": "8231ab19",
   "metadata": {},
   "outputs": [
    {
     "data": {
      "text/plain": [
       "(3, 3, 3)"
      ]
     },
     "execution_count": 8,
     "metadata": {},
     "output_type": "execute_result"
    }
   ],
   "source": [
    "kernel.shape"
   ]
  },
  {
   "cell_type": "code",
   "execution_count": 9,
   "id": "83c1cbda",
   "metadata": {},
   "outputs": [
    {
     "data": {
      "text/plain": [
       "0.9999999999999998"
      ]
     },
     "execution_count": 9,
     "metadata": {},
     "output_type": "execute_result"
    }
   ],
   "source": [
    "kernel.sum()"
   ]
  },
  {
   "cell_type": "code",
   "execution_count": 10,
   "id": "6cfa2c5f",
   "metadata": {},
   "outputs": [],
   "source": [
    "imputed = interpolate_replace_nans(arr, kernel) # interpolate"
   ]
  },
  {
   "cell_type": "code",
   "execution_count": 11,
   "id": "300ea9a1",
   "metadata": {},
   "outputs": [
    {
     "data": {
      "text/plain": [
       "0"
      ]
     },
     "execution_count": 11,
     "metadata": {},
     "output_type": "execute_result"
    }
   ],
   "source": [
    "np.count_nonzero(imputed) # check number of nans"
   ]
  }
 ],
 "metadata": {
  "kernelspec": {
   "display_name": "Python 3 (ipykernel)",
   "language": "python",
   "name": "python3"
  },
  "language_info": {
   "codemirror_mode": {
    "name": "ipython",
    "version": 3
   },
   "file_extension": ".py",
   "mimetype": "text/x-python",
   "name": "python",
   "nbconvert_exporter": "python",
   "pygments_lexer": "ipython3",
   "version": "3.12.3"
  }
 },
 "nbformat": 4,
 "nbformat_minor": 5
}
