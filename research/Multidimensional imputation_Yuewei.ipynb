{
 "cells": [
  {
   "cell_type": "markdown",
   "id": "f01569e0",
   "metadata": {},
   "source": [
    "### Data imputation"
   ]
  },
  {
   "cell_type": "code",
   "execution_count": 22,
   "id": "38651758",
   "metadata": {},
   "outputs": [],
   "source": [
    "import numpy as np\n",
    "import pandas as pd\n",
    "import matplotlib.pyplot as plt\n",
    "from astropy.convolution import interpolate_replace_nans, Kernel\n",
    "\n",
    "import sys\n",
    "sys.path.append('../conv_imputer')\n",
    "import gen_synth\n",
    "import impute_weekly"
   ]
  },
  {
   "cell_type": "markdown",
   "id": "a5031c4b-8399-4157-96d1-a8b3177889c8",
   "metadata": {},
   "source": [
    "#### Generate the data set"
   ]
  },
  {
   "cell_type": "code",
   "execution_count": 231,
   "id": "86617621-d6d0-4569-961c-fcaa9c3a68cb",
   "metadata": {},
   "outputs": [
    {
     "name": "stderr",
     "output_type": "stream",
     "text": [
      "E:\\Python\\HRI\\convolution-imputation\\research\\../conv_imputer\\gen_synth.py:6: FutureWarning: 'H' is deprecated and will be removed in a future version, please use 'h' instead.\n",
      "  date_range = pd.date_range(start=start_date, periods=24*7*num_weeks, freq='H')\n"
     ]
    }
   ],
   "source": [
    "data = gen_synth.weekly_daily_signal()"
   ]
  },
  {
   "cell_type": "code",
   "execution_count": 233,
   "id": "a8429439-90fe-43e7-82d8-7db42586cb48",
   "metadata": {},
   "outputs": [],
   "source": [
    "# data"
   ]
  },
  {
   "cell_type": "code",
   "execution_count": 234,
   "id": "687ddc66-cc78-4263-b2de-48cdcfd8868e",
   "metadata": {},
   "outputs": [
    {
     "name": "stdout",
     "output_type": "stream",
     "text": [
      "Shape of the dataset: (672,)\n",
      "Total number of NaN values: 0\n"
     ]
    }
   ],
   "source": [
    "# Shape of the dataset\n",
    "print(\"Shape of the dataset:\", data.shape)\n",
    "# Number of NaN values\n",
    "print(\"Total number of NaN values:\", np.isnan(data).sum())"
   ]
  },
  {
   "cell_type": "code",
   "execution_count": 235,
   "id": "005c1711-af58-40d6-b0c5-4d18c78a9ff4",
   "metadata": {},
   "outputs": [],
   "source": [
    "# This function pivots time-series data into a weekly format with time-of-week as columns, replacing placeholder values with NaN.\n",
    "def get_pivoted_weekly(data):\n",
    "    df = pd.DataFrame(data)\n",
    "    df[\"updatetime\"]  = data.index\n",
    "    df[\"week_start\"] = df[\"updatetime\"].dt.to_period('W-SUN').apply(lambda r: r.start_time)\n",
    "    df[\"tow\"] = df['updatetime'] - df['week_start']\n",
    "    pivoted = pd.pivot_table(df, values = 0, index=['week_start'], columns = 'tow').reset_index()\n",
    "    return pivoted.replace(-666,np.nan)"
   ]
  },
  {
   "cell_type": "code",
   "execution_count": null,
   "id": "f827730e-49fa-4604-82e4-4fce1d564949",
   "metadata": {},
   "outputs": [],
   "source": [
    "# Generate a synthetic missing pattern\n",
    "missing_pattern = gen_synth.uniform_random_missing_patterns(get_pivoted_weekly(data).iloc[:,1:], num_patterns=1, num_missings=30)\n",
    "# Set missing values\n",
    "missing = data.copy()\n",
    "missing.iloc[missing_pattern[0].flatten().nonzero()] = np.nan"
   ]
  },
  {
   "cell_type": "code",
   "execution_count": 237,
   "id": "1a20fbc1-2b5d-4dc0-b9c3-0be0b6d73d3b",
   "metadata": {},
   "outputs": [],
   "source": [
    "missing = data.copy()\n",
    "# List of positions to set to NaN\n",
    "nan_positions = [0, 23, 24, 47, 48, 71, 120, 143, 144, 167, 264, 287, 288, 311, 312, 335, 408, 431, 432, 455, 456, 479, 480, 503, 576, 599, 624, 647, 648, 671]\n",
    "# Set these positions to NaN\n",
    "missing.iloc[nan_positions] = np.nan"
   ]
  },
  {
   "cell_type": "code",
   "execution_count": 238,
   "id": "f5f745a5-f1ee-4a84-a9db-5ea7b7d5ea7b",
   "metadata": {},
   "outputs": [
    {
     "name": "stdout",
     "output_type": "stream",
     "text": [
      "Total number of NaN values in 'data': 0\n",
      "Total number of NaN values in 'missing': 30\n"
     ]
    }
   ],
   "source": [
    "print(\"Total number of NaN values in 'data':\", np.isnan(data).sum())\n",
    "print(\"Total number of NaN values in 'missing':\", np.isnan(missing).sum())"
   ]
  },
  {
   "cell_type": "code",
   "execution_count": 239,
   "id": "be984645-71c2-4989-a5b0-864505e5d6ed",
   "metadata": {},
   "outputs": [],
   "source": [
    "# Create a DataFrame from the provided data\n",
    "data_df = pd.DataFrame(data)\n",
    "# Add a new column \"updatetime\" to the DataFrame using the index of the data\n",
    "data_df[\"updatetime\"] = data_df.index\n",
    "# Rename the column with key 0 to \"value\"\n",
    "data_df.rename(columns={0: 'value'}, inplace=True)"
   ]
  },
  {
   "cell_type": "code",
   "execution_count": 241,
   "id": "bb332304-7817-4d87-8ea0-0552d1c12f0d",
   "metadata": {},
   "outputs": [],
   "source": [
    "# data_df"
   ]
  },
  {
   "cell_type": "code",
   "execution_count": 242,
   "id": "5a483160-259e-4c9c-b621-7ed9a40cc8dd",
   "metadata": {},
   "outputs": [],
   "source": [
    "missing_df = pd.DataFrame(missing)\n",
    "missing_df[\"updatetime\"] = missing_df.index\n",
    "missing_df.rename(columns={0: 'value'}, inplace=True)"
   ]
  },
  {
   "cell_type": "code",
   "execution_count": 243,
   "id": "3068b3a2-59cb-46e2-bcd8-db413be5256e",
   "metadata": {},
   "outputs": [],
   "source": [
    "# missing_df"
   ]
  },
  {
   "cell_type": "code",
   "execution_count": 244,
   "id": "c8be3c65-17d7-48cf-b506-96498da3a7e6",
   "metadata": {},
   "outputs": [],
   "source": [
    "# Define dimensions\n",
    "hours_per_day = 24\n",
    "days_per_week = 7\n",
    "weeks = len(data) // (hours_per_day * days_per_week)\n",
    "# weeks = len(missing) // (hours_per_day * days_per_week)"
   ]
  },
  {
   "cell_type": "code",
   "execution_count": 245,
   "id": "380e0a4d-23bc-4adf-9c17-fabaa3e557d7",
   "metadata": {},
   "outputs": [],
   "source": [
    "data_values = data_df['value'].to_numpy()\n",
    "data_array = data_values.reshape((weeks, days_per_week, hours_per_day))"
   ]
  },
  {
   "cell_type": "code",
   "execution_count": 246,
   "id": "1e93d181-9c1d-4945-b8e8-7b4a525d24cf",
   "metadata": {},
   "outputs": [],
   "source": [
    "missing_values = missing_df['value'].to_numpy()\n",
    "missing_array = missing_values.reshape((weeks, days_per_week, hours_per_day))"
   ]
  },
  {
   "cell_type": "code",
   "execution_count": 247,
   "id": "4c534cc4-a485-4804-a9d8-3c0d9f43b7c9",
   "metadata": {},
   "outputs": [],
   "source": [
    "# missing_array"
   ]
  },
  {
   "cell_type": "code",
   "execution_count": 248,
   "id": "0c38565a-7a45-4e25-9915-8e1c78bce37f",
   "metadata": {},
   "outputs": [
    {
     "name": "stdout",
     "output_type": "stream",
     "text": [
      "Shape of 3D array in data: (4, 7, 24)\n",
      "Shape of 3D array in missing: (4, 7, 24)\n",
      "Total number of NaN values in 'data_df': 0\n",
      "Total number of NaN values in 'missing_df': 30\n"
     ]
    }
   ],
   "source": [
    "print(\"Shape of 3D array in data:\", data_array.shape)\n",
    "print(\"Shape of 3D array in missing:\", missing_array.shape)\n",
    "print(\"Total number of NaN values in 'data_df':\", np.isnan(data_df['value']).sum())\n",
    "print(\"Total number of NaN values in 'missing_df':\", np.isnan(missing_df['value']).sum())"
   ]
  },
  {
   "cell_type": "markdown",
   "id": "173b963c-888b-4515-bf64-5e52e5699aaa",
   "metadata": {},
   "source": [
    "#### 3D Gaussian kernel"
   ]
  },
  {
   "cell_type": "code",
   "execution_count": 249,
   "id": "393833b4-f91d-4d03-9c95-30f99869c28f",
   "metadata": {},
   "outputs": [],
   "source": [
    "class CustomGaussian3DKernel(Kernel):\n",
    "    def __init__(self, size_x, size_y, size_z, stddev_x, stddev_y, stddev_z):\n",
    "        \"\"\"\n",
    "        Create a 3D Gaussian kernel with customizable sizes and standard deviations.\n",
    "        \n",
    "        Parameters:\n",
    "        size_x, size_y, size_z: int\n",
    "            Sizes of the kernel along x, y, z axes.\n",
    "        stddev_x, stddev_y, stddev_z: float\n",
    "            Standard deviations of the Gaussian along x, y, z axes.\n",
    "        \"\"\"\n",
    "        # Create 3D grids for the coordinates (x,y,z) centered around 0\n",
    "        x, y, z = np.meshgrid(\n",
    "            np.linspace(-size_x // 2, size_x // 2, size_x), # Generate linearly spaced values for creating a grid for each axis\n",
    "            np.linspace(-size_y // 2, size_y // 2, size_y),\n",
    "            np.linspace(-size_z // 2, size_z // 2, size_z),\n",
    "            indexing='ij', # Ensure the output is in matrix indexing format\n",
    "        )\n",
    "        kernel = np.exp(\n",
    "            -((x**2) / (2 * stddev_x**2) + (y**2) / (2 * stddev_y**2) + (z**2) / (2 * stddev_z**2))\n",
    "        )\n",
    "        kernel /= np.sum(kernel)  # Normalize the kernel\n",
    "        super().__init__(array=kernel)"
   ]
  },
  {
   "cell_type": "code",
   "execution_count": 250,
   "id": "b0467aab-2999-4343-9783-ffa8c5ff3904",
   "metadata": {},
   "outputs": [],
   "source": [
    "# Define the dimensions and standard deviations for the Gaussian kernel\n",
    "x_size = 3 # Weekly (the depth of the cube; front to back)\n",
    "y_size = 3 # Daily (the height of the cube; top to bottom)\n",
    "z_size = 3 # Hourly (width of the cube; left to right)\n",
    "x_stddev = 1\n",
    "y_stddev = 1\n",
    "z_stddev = 1\n",
    "\n",
    "# Initialize a custom 3D Gaussian kernel with the specified dimensions and standard deviations\n",
    "kernel = CustomGaussian3DKernel(x_size, y_size, z_size, x_stddev, y_stddev, z_stddev)"
   ]
  },
  {
   "cell_type": "code",
   "execution_count": 251,
   "id": "1fd3d18e-4b1e-41de-a07d-80d92d7d20b5",
   "metadata": {},
   "outputs": [],
   "source": [
    "# Actual values of the 3D Gaussian kernel\n",
    "kernel_array = kernel.array\n",
    "# kernel_array"
   ]
  },
  {
   "cell_type": "code",
   "execution_count": 252,
   "id": "f654c8b1-4294-42f0-9868-33477b578bb5",
   "metadata": {},
   "outputs": [
    {
     "data": {
      "text/plain": [
       "0.9999999999999999"
      ]
     },
     "execution_count": 252,
     "metadata": {},
     "output_type": "execute_result"
    }
   ],
   "source": [
    "# Sum all the elements in the kernel array\n",
    "kernel_sum = kernel_array.sum()  # Since the values in a Gaussian kernel are typically normalized, the sum should ideally be 1.\n",
    "kernel_sum"
   ]
  },
  {
   "cell_type": "markdown",
   "id": "1db03c59-8d40-4aa0-ab1a-c77a431a3781",
   "metadata": {},
   "source": [
    "#### Missing value imputation"
   ]
  },
  {
   "cell_type": "code",
   "execution_count": 253,
   "id": "efd34a81-120a-41f1-8e61-cfcb9d04d854",
   "metadata": {},
   "outputs": [],
   "source": [
    "# Define the pad width\n",
    "pad_width = max(kernel.shape[0], kernel.shape[1], kernel.shape[2]) // 3\n",
    "# Pad the input array\n",
    "padded = np.pad(missing_array.copy(), mode='edge', pad_width=pad_width)"
   ]
  },
  {
   "cell_type": "code",
   "execution_count": 262,
   "id": "186c3dec-eab1-4ffa-afe7-f6726aad738b",
   "metadata": {},
   "outputs": [
    {
     "name": "stdout",
     "output_type": "stream",
     "text": [
      "Total number of NaN values in 'missing_array': 30\n",
      "Total number of NaN values in 'missing_imputed': 0\n"
     ]
    }
   ],
   "source": [
    "# Apply the 'interpolate_replace_nans' function to impute missing values\n",
    "imputed = interpolate_replace_nans(padded, kernel)\n",
    "# Calculate the slicing indices to remove padding\n",
    "slices = tuple(slice(pad_width, -pad_width) for _ in range(missing_array.ndim))\n",
    "# Extract the imputed array without padding\n",
    "missing_imputed = imputed[slices]\n",
    "\n",
    "# Verify that the shapes match\n",
    "assert imputed_no_padding.shape == missing_array.shape, \"The shapes do not match!\"\n",
    "\n",
    "print(\"Total number of NaN values in 'missing_array':\", np.isnan(missing_array).sum())\n",
    "print(\"Total number of NaN values in 'missing_imputed':\", np.isnan(missing_imputed).sum())"
   ]
  },
  {
   "cell_type": "code",
   "execution_count": 263,
   "id": "9c6b3d37-bb37-49af-ae32-0cb66040e20d",
   "metadata": {},
   "outputs": [
    {
     "name": "stdout",
     "output_type": "stream",
     "text": [
      "RMSE: 0.5017\n"
     ]
    }
   ],
   "source": [
    "# Identify missing indices\n",
    "missing_indices = np.isnan(missing_array)\n",
    "# Extract imputed and ground truth values\n",
    "imputed_values = missing_imputed[missing_indices]\n",
    "actual_values = data_array[missing_indices]\n",
    "# Calculate RMSE\n",
    "rmse = np.sqrt(np.mean((imputed_values - actual_values) ** 2))\n",
    "print(f\"RMSE: {rmse:.4f}\")"
   ]
  },
  {
   "cell_type": "markdown",
   "id": "645f4ab3-cc6c-4596-bf08-0d932594282b",
   "metadata": {},
   "source": [
    "#### Conversion from arrays to DataFrame"
   ]
  },
  {
   "cell_type": "code",
   "execution_count": 264,
   "id": "91ebd6c9-f0de-487f-93c9-8766b2eeb0ca",
   "metadata": {},
   "outputs": [],
   "source": [
    "# Flatten the 3D array back to a 1D array\n",
    "imputed_flattened = missing_imputed.ravel()\n",
    "# Update the 'value' column in the original DataFrame\n",
    "missing_df['value_imputed'] = imputed_flattened\n",
    "# Add the actual values in the original DataFrame\n",
    "missing_df['value_actual'] = data_df['value']"
   ]
  },
  {
   "cell_type": "code",
   "execution_count": 265,
   "id": "76f15b1c-f6f5-4bdb-999f-6486be46a99f",
   "metadata": {
    "scrolled": true
   },
   "outputs": [],
   "source": [
    "# Extract rows where 'value' is missing (NaN)\n",
    "missing_rows = missing_df[missing_df['value'].isna()]"
   ]
  },
  {
   "cell_type": "code",
   "execution_count": 267,
   "id": "556c0c88-c26b-4905-b52f-ae980201ac2e",
   "metadata": {
    "scrolled": true
   },
   "outputs": [
    {
     "data": {
      "text/html": [
       "<div>\n",
       "<style scoped>\n",
       "    .dataframe tbody tr th:only-of-type {\n",
       "        vertical-align: middle;\n",
       "    }\n",
       "\n",
       "    .dataframe tbody tr th {\n",
       "        vertical-align: top;\n",
       "    }\n",
       "\n",
       "    .dataframe thead th {\n",
       "        text-align: right;\n",
       "    }\n",
       "</style>\n",
       "<table border=\"1\" class=\"dataframe\">\n",
       "  <thead>\n",
       "    <tr style=\"text-align: right;\">\n",
       "      <th></th>\n",
       "      <th>value</th>\n",
       "      <th>updatetime</th>\n",
       "      <th>value_imputed</th>\n",
       "      <th>value_actual</th>\n",
       "    </tr>\n",
       "  </thead>\n",
       "  <tbody>\n",
       "    <tr>\n",
       "      <th>2023-01-02 00:00:00</th>\n",
       "      <td>NaN</td>\n",
       "      <td>2023-01-02 00:00:00</td>\n",
       "      <td>4.168275</td>\n",
       "      <td>4.000000</td>\n",
       "    </tr>\n",
       "    <tr>\n",
       "      <th>2023-01-02 23:00:00</th>\n",
       "      <td>NaN</td>\n",
       "      <td>2023-01-02 23:00:00</td>\n",
       "      <td>3.772538</td>\n",
       "      <td>4.117366</td>\n",
       "    </tr>\n",
       "    <tr>\n",
       "      <th>2023-01-03 00:00:00</th>\n",
       "      <td>NaN</td>\n",
       "      <td>2023-01-03 00:00:00</td>\n",
       "      <td>4.320057</td>\n",
       "      <td>4.405321</td>\n",
       "    </tr>\n",
       "    <tr>\n",
       "      <th>2023-01-03 23:00:00</th>\n",
       "      <td>NaN</td>\n",
       "      <td>2023-01-03 23:00:00</td>\n",
       "      <td>3.357778</td>\n",
       "      <td>3.503762</td>\n",
       "    </tr>\n",
       "    <tr>\n",
       "      <th>2023-01-04 00:00:00</th>\n",
       "      <td>NaN</td>\n",
       "      <td>2023-01-04 00:00:00</td>\n",
       "      <td>3.549727</td>\n",
       "      <td>3.752407</td>\n",
       "    </tr>\n",
       "    <tr>\n",
       "      <th>2023-01-04 23:00:00</th>\n",
       "      <td>NaN</td>\n",
       "      <td>2023-01-04 23:00:00</td>\n",
       "      <td>2.306081</td>\n",
       "      <td>2.290260</td>\n",
       "    </tr>\n",
       "    <tr>\n",
       "      <th>2023-01-07 00:00:00</th>\n",
       "      <td>NaN</td>\n",
       "      <td>2023-01-07 00:00:00</td>\n",
       "      <td>1.751461</td>\n",
       "      <td>1.802551</td>\n",
       "    </tr>\n",
       "    <tr>\n",
       "      <th>2023-01-07 23:00:00</th>\n",
       "      <td>NaN</td>\n",
       "      <td>2023-01-07 23:00:00</td>\n",
       "      <td>1.705185</td>\n",
       "      <td>2.496329</td>\n",
       "    </tr>\n",
       "    <tr>\n",
       "      <th>2023-01-08 00:00:00</th>\n",
       "      <td>NaN</td>\n",
       "      <td>2023-01-08 00:00:00</td>\n",
       "      <td>2.722218</td>\n",
       "      <td>2.841658</td>\n",
       "    </tr>\n",
       "    <tr>\n",
       "      <th>2023-01-08 23:00:00</th>\n",
       "      <td>NaN</td>\n",
       "      <td>2023-01-08 23:00:00</td>\n",
       "      <td>2.845878</td>\n",
       "      <td>3.669016</td>\n",
       "    </tr>\n",
       "    <tr>\n",
       "      <th>2023-01-13 00:00:00</th>\n",
       "      <td>NaN</td>\n",
       "      <td>2023-01-13 00:00:00</td>\n",
       "      <td>2.208610</td>\n",
       "      <td>1.665147</td>\n",
       "    </tr>\n",
       "    <tr>\n",
       "      <th>2023-01-13 23:00:00</th>\n",
       "      <td>NaN</td>\n",
       "      <td>2023-01-13 23:00:00</td>\n",
       "      <td>1.297379</td>\n",
       "      <td>1.482362</td>\n",
       "    </tr>\n",
       "    <tr>\n",
       "      <th>2023-01-14 00:00:00</th>\n",
       "      <td>NaN</td>\n",
       "      <td>2023-01-14 00:00:00</td>\n",
       "      <td>1.827487</td>\n",
       "      <td>1.802551</td>\n",
       "    </tr>\n",
       "    <tr>\n",
       "      <th>2023-01-14 23:00:00</th>\n",
       "      <td>NaN</td>\n",
       "      <td>2023-01-14 23:00:00</td>\n",
       "      <td>1.766657</td>\n",
       "      <td>2.496329</td>\n",
       "    </tr>\n",
       "    <tr>\n",
       "      <th>2023-01-15 00:00:00</th>\n",
       "      <td>NaN</td>\n",
       "      <td>2023-01-15 00:00:00</td>\n",
       "      <td>2.722218</td>\n",
       "      <td>2.841658</td>\n",
       "    </tr>\n",
       "    <tr>\n",
       "      <th>2023-01-15 23:00:00</th>\n",
       "      <td>NaN</td>\n",
       "      <td>2023-01-15 23:00:00</td>\n",
       "      <td>2.845878</td>\n",
       "      <td>3.669016</td>\n",
       "    </tr>\n",
       "    <tr>\n",
       "      <th>2023-01-19 00:00:00</th>\n",
       "      <td>NaN</td>\n",
       "      <td>2023-01-19 00:00:00</td>\n",
       "      <td>3.275342</td>\n",
       "      <td>2.532915</td>\n",
       "    </tr>\n",
       "    <tr>\n",
       "      <th>2023-01-19 23:00:00</th>\n",
       "      <td>NaN</td>\n",
       "      <td>2023-01-19 23:00:00</td>\n",
       "      <td>1.691397</td>\n",
       "      <td>1.390653</td>\n",
       "    </tr>\n",
       "    <tr>\n",
       "      <th>2023-01-20 00:00:00</th>\n",
       "      <td>NaN</td>\n",
       "      <td>2023-01-20 00:00:00</td>\n",
       "      <td>2.280674</td>\n",
       "      <td>1.665147</td>\n",
       "    </tr>\n",
       "    <tr>\n",
       "      <th>2023-01-20 23:00:00</th>\n",
       "      <td>NaN</td>\n",
       "      <td>2023-01-20 23:00:00</td>\n",
       "      <td>1.235792</td>\n",
       "      <td>1.482362</td>\n",
       "    </tr>\n",
       "    <tr>\n",
       "      <th>2023-01-21 00:00:00</th>\n",
       "      <td>NaN</td>\n",
       "      <td>2023-01-21 00:00:00</td>\n",
       "      <td>1.971618</td>\n",
       "      <td>1.802551</td>\n",
       "    </tr>\n",
       "    <tr>\n",
       "      <th>2023-01-21 23:00:00</th>\n",
       "      <td>NaN</td>\n",
       "      <td>2023-01-21 23:00:00</td>\n",
       "      <td>1.815768</td>\n",
       "      <td>2.496329</td>\n",
       "    </tr>\n",
       "    <tr>\n",
       "      <th>2023-01-22 00:00:00</th>\n",
       "      <td>NaN</td>\n",
       "      <td>2023-01-22 00:00:00</td>\n",
       "      <td>2.722218</td>\n",
       "      <td>2.841658</td>\n",
       "    </tr>\n",
       "    <tr>\n",
       "      <th>2023-01-22 23:00:00</th>\n",
       "      <td>NaN</td>\n",
       "      <td>2023-01-22 23:00:00</td>\n",
       "      <td>2.845878</td>\n",
       "      <td>3.669016</td>\n",
       "    </tr>\n",
       "    <tr>\n",
       "      <th>2023-01-26 00:00:00</th>\n",
       "      <td>NaN</td>\n",
       "      <td>2023-01-26 00:00:00</td>\n",
       "      <td>3.425829</td>\n",
       "      <td>2.532915</td>\n",
       "    </tr>\n",
       "    <tr>\n",
       "      <th>2023-01-26 23:00:00</th>\n",
       "      <td>NaN</td>\n",
       "      <td>2023-01-26 23:00:00</td>\n",
       "      <td>1.741859</td>\n",
       "      <td>1.390653</td>\n",
       "    </tr>\n",
       "    <tr>\n",
       "      <th>2023-01-28 00:00:00</th>\n",
       "      <td>NaN</td>\n",
       "      <td>2023-01-28 00:00:00</td>\n",
       "      <td>1.780240</td>\n",
       "      <td>1.802551</td>\n",
       "    </tr>\n",
       "    <tr>\n",
       "      <th>2023-01-28 23:00:00</th>\n",
       "      <td>NaN</td>\n",
       "      <td>2023-01-28 23:00:00</td>\n",
       "      <td>1.734268</td>\n",
       "      <td>2.496329</td>\n",
       "    </tr>\n",
       "    <tr>\n",
       "      <th>2023-01-29 00:00:00</th>\n",
       "      <td>NaN</td>\n",
       "      <td>2023-01-29 00:00:00</td>\n",
       "      <td>2.722218</td>\n",
       "      <td>2.841658</td>\n",
       "    </tr>\n",
       "    <tr>\n",
       "      <th>2023-01-29 23:00:00</th>\n",
       "      <td>NaN</td>\n",
       "      <td>2023-01-29 23:00:00</td>\n",
       "      <td>2.845878</td>\n",
       "      <td>3.669016</td>\n",
       "    </tr>\n",
       "  </tbody>\n",
       "</table>\n",
       "</div>"
      ],
      "text/plain": [
       "                     value          updatetime  value_imputed  value_actual\n",
       "2023-01-02 00:00:00    NaN 2023-01-02 00:00:00       4.168275      4.000000\n",
       "2023-01-02 23:00:00    NaN 2023-01-02 23:00:00       3.772538      4.117366\n",
       "2023-01-03 00:00:00    NaN 2023-01-03 00:00:00       4.320057      4.405321\n",
       "2023-01-03 23:00:00    NaN 2023-01-03 23:00:00       3.357778      3.503762\n",
       "2023-01-04 00:00:00    NaN 2023-01-04 00:00:00       3.549727      3.752407\n",
       "2023-01-04 23:00:00    NaN 2023-01-04 23:00:00       2.306081      2.290260\n",
       "2023-01-07 00:00:00    NaN 2023-01-07 00:00:00       1.751461      1.802551\n",
       "2023-01-07 23:00:00    NaN 2023-01-07 23:00:00       1.705185      2.496329\n",
       "2023-01-08 00:00:00    NaN 2023-01-08 00:00:00       2.722218      2.841658\n",
       "2023-01-08 23:00:00    NaN 2023-01-08 23:00:00       2.845878      3.669016\n",
       "2023-01-13 00:00:00    NaN 2023-01-13 00:00:00       2.208610      1.665147\n",
       "2023-01-13 23:00:00    NaN 2023-01-13 23:00:00       1.297379      1.482362\n",
       "2023-01-14 00:00:00    NaN 2023-01-14 00:00:00       1.827487      1.802551\n",
       "2023-01-14 23:00:00    NaN 2023-01-14 23:00:00       1.766657      2.496329\n",
       "2023-01-15 00:00:00    NaN 2023-01-15 00:00:00       2.722218      2.841658\n",
       "2023-01-15 23:00:00    NaN 2023-01-15 23:00:00       2.845878      3.669016\n",
       "2023-01-19 00:00:00    NaN 2023-01-19 00:00:00       3.275342      2.532915\n",
       "2023-01-19 23:00:00    NaN 2023-01-19 23:00:00       1.691397      1.390653\n",
       "2023-01-20 00:00:00    NaN 2023-01-20 00:00:00       2.280674      1.665147\n",
       "2023-01-20 23:00:00    NaN 2023-01-20 23:00:00       1.235792      1.482362\n",
       "2023-01-21 00:00:00    NaN 2023-01-21 00:00:00       1.971618      1.802551\n",
       "2023-01-21 23:00:00    NaN 2023-01-21 23:00:00       1.815768      2.496329\n",
       "2023-01-22 00:00:00    NaN 2023-01-22 00:00:00       2.722218      2.841658\n",
       "2023-01-22 23:00:00    NaN 2023-01-22 23:00:00       2.845878      3.669016\n",
       "2023-01-26 00:00:00    NaN 2023-01-26 00:00:00       3.425829      2.532915\n",
       "2023-01-26 23:00:00    NaN 2023-01-26 23:00:00       1.741859      1.390653\n",
       "2023-01-28 00:00:00    NaN 2023-01-28 00:00:00       1.780240      1.802551\n",
       "2023-01-28 23:00:00    NaN 2023-01-28 23:00:00       1.734268      2.496329\n",
       "2023-01-29 00:00:00    NaN 2023-01-29 00:00:00       2.722218      2.841658\n",
       "2023-01-29 23:00:00    NaN 2023-01-29 23:00:00       2.845878      3.669016"
      ]
     },
     "execution_count": 267,
     "metadata": {},
     "output_type": "execute_result"
    }
   ],
   "source": [
    "# missing_rows"
   ]
  },
  {
   "cell_type": "code",
   "execution_count": 266,
   "id": "daae98a0-3f6f-4470-a5d8-d5ff62cb4ff3",
   "metadata": {},
   "outputs": [
    {
     "name": "stderr",
     "output_type": "stream",
     "text": [
      "D:\\Apps\\Anaconda\\envs\\HRI\\Lib\\site-packages\\sklearn\\metrics\\_regression.py:483: FutureWarning: 'squared' is deprecated in version 1.4 and will be removed in 1.6. To calculate the root mean squared error, use the function'root_mean_squared_error'.\n",
      "  warnings.warn(\n"
     ]
    },
    {
     "data": {
      "text/plain": [
       "0.5016803324268485"
      ]
     },
     "execution_count": 266,
     "metadata": {},
     "output_type": "execute_result"
    }
   ],
   "source": [
    "from sklearn.metrics import mean_squared_error\n",
    "\n",
    "# Calculate RMSE\n",
    "mean_squared_error(missing_rows['value_actual'], missing_rows['value_imputed'], squared=False)"
   ]
  },
  {
   "cell_type": "markdown",
   "id": "78831acd-a0f2-465e-9079-8dfa052c9407",
   "metadata": {},
   "source": [
    "#### RMSE for multiple values of `pad_width`"
   ]
  },
  {
   "cell_type": "code",
   "execution_count": 270,
   "id": "af0003c3-960e-4494-bc31-1f7819e571b7",
   "metadata": {},
   "outputs": [],
   "source": [
    "def calculate_rmse_for_pad_widths(missing_array, data_array, kernel, max_pad_width=12):\n",
    "    \"\"\"\n",
    "    Calculate RMSE for multiple pad_width values.\n",
    "\n",
    "    Parameters:\n",
    "        missing_array (np.ndarray): The input array with missing values.\n",
    "        data_array (np.ndarray): The ground truth array without missing values.\n",
    "        kernel (np.ndarray): The kernel to use in `interpolate_replace_nans`.\n",
    "        max_pad_width (int): The maximum pad_width to test (default is 12).\n",
    "\n",
    "    Returns:\n",
    "        dict: A dictionary mapping pad_width to its corresponding RMSE.\n",
    "    \"\"\"\n",
    "    rmse_results = {}\n",
    "\n",
    "    for pad_width in range(1, max_pad_width + 1):\n",
    "        # Pad the input array\n",
    "        padded = np.pad(missing_array.copy(), mode='edge', pad_width=pad_width)\n",
    "\n",
    "        # Apply the interpolation function (replace this with your function)\n",
    "        imputed = interpolate_replace_nans(padded, kernel)\n",
    "\n",
    "        # Calculate the slicing indices to remove padding\n",
    "        slices = tuple(slice(pad_width, -pad_width) for _ in range(missing_array.ndim))\n",
    "\n",
    "        # Extract the imputed array without padding\n",
    "        missing_imputed = imputed[slices]\n",
    "\n",
    "        # Identify missing indices\n",
    "        missing_indices = np.isnan(missing_array)\n",
    "\n",
    "        # Extract imputed and ground truth values\n",
    "        imputed_values = missing_imputed[missing_indices]\n",
    "        actual_values = data_array[missing_indices]\n",
    "\n",
    "        # Calculate RMSE\n",
    "        rmse = np.sqrt(np.mean((imputed_values - actual_values) ** 2))\n",
    "\n",
    "        # Store the result\n",
    "        rmse_results[pad_width] = rmse\n",
    "\n",
    "        # Print the RMSE for the current pad_width\n",
    "        print(f\"pad_width: {pad_width}, RMSE: {rmse:.4f}\")\n",
    "\n",
    "    return rmse_results"
   ]
  },
  {
   "cell_type": "code",
   "execution_count": 229,
   "id": "54144403-875e-462d-ab9b-4a4143f4ac45",
   "metadata": {},
   "outputs": [
    {
     "name": "stdout",
     "output_type": "stream",
     "text": [
      "pad_width: 1, RMSE: 0.3733\n",
      "pad_width: 2, RMSE: 0.3733\n",
      "pad_width: 3, RMSE: 0.3733\n",
      "pad_width: 4, RMSE: 0.3733\n",
      "pad_width: 5, RMSE: 0.3733\n",
      "pad_width: 6, RMSE: 0.3733\n",
      "pad_width: 7, RMSE: 0.3733\n",
      "pad_width: 8, RMSE: 0.3733\n",
      "pad_width: 9, RMSE: 0.3733\n",
      "pad_width: 10, RMSE: 0.3733\n",
      "pad_width: 11, RMSE: 0.3733\n",
      "pad_width: 12, RMSE: 0.3733\n"
     ]
    }
   ],
   "source": [
    "rmse_results = calculate_rmse_for_pad_widths(missing_array, data_array, kernel)"
   ]
  },
  {
   "cell_type": "code",
   "execution_count": 271,
   "id": "11df72de-d9a6-4f6b-8648-4f580a0e6729",
   "metadata": {},
   "outputs": [
    {
     "name": "stdout",
     "output_type": "stream",
     "text": [
      "pad_width: 1, RMSE: 0.5016803324268485\n",
      "pad_width: 2, RMSE: 0.5016803324268485\n",
      "pad_width: 3, RMSE: 0.5016803324268485\n",
      "pad_width: 4, RMSE: 0.5016803324268485\n",
      "pad_width: 5, RMSE: 0.5016803324268485\n",
      "pad_width: 6, RMSE: 0.5016803324268485\n",
      "pad_width: 7, RMSE: 0.5016803324268485\n",
      "pad_width: 8, RMSE: 0.5016803324268485\n",
      "pad_width: 9, RMSE: 0.5016803324268485\n",
      "pad_width: 10, RMSE: 0.5016803324268485\n",
      "pad_width: 11, RMSE: 0.5016803324268485\n",
      "pad_width: 12, RMSE: 0.5016803324268485\n"
     ]
    }
   ],
   "source": [
    "rmse_results = calculate_rmse_for_pad_widths(missing_array, data_array, kernel)"
   ]
  },
  {
   "cell_type": "markdown",
   "id": "a791a38c-128a-4b2c-bc01-0a1466c2d9b5",
   "metadata": {},
   "source": [
    "#### Trial: Reshape into a 3D array"
   ]
  },
  {
   "cell_type": "code",
   "execution_count": 77,
   "id": "5a0fda7f-8a72-4010-8eb0-e4af2979156b",
   "metadata": {},
   "outputs": [],
   "source": [
    "# Example DataFrame with only 'value'\n",
    "df_trial = pd.DataFrame({\n",
    "    \"value\": range(1, 24*7*4 + 1)  # Simulating data points for 4 weeks\n",
    "})\n",
    "\n",
    "# Define dimensions\n",
    "hours_per_day = 24\n",
    "days_per_week = 7\n",
    "weeks = len(df_trial) // (hours_per_day * days_per_week)\n",
    "\n",
    "# Check if the data length matches the full weeks of data\n",
    "if len(df_trial) % (hours_per_day * days_per_week) != 0:\n",
    "    raise ValueError(\"The number of data points must be a multiple of 24 * 7 (hours * days per week).\")"
   ]
  },
  {
   "cell_type": "code",
   "execution_count": 80,
   "id": "2ba3e374-e6f8-48ee-b0a3-0a8457ee1192",
   "metadata": {},
   "outputs": [
    {
     "name": "stdout",
     "output_type": "stream",
     "text": [
      "Shape of 3D array: (4, 7, 24)\n",
      "Example data point [1,1,1]: 1\n",
      "Example data point [2,1,1]: 169\n"
     ]
    }
   ],
   "source": [
    "# Reshape the 'value' column into a 3D array\n",
    "values_trial = df_trial['value'].to_numpy()\n",
    "data_trial = values_trial.reshape((weeks, days_per_week, hours_per_day))\n",
    "\n",
    "# Verification of the structure\n",
    "print(\"Shape of 3D array:\", data_trial.shape)  # Should be (weeks, days_per_week, hours_per_day)\n",
    "print(\"Example data point [1,1,1]:\", data_trial[0, 0, 0])  # Corresponds to the start of the first week\n",
    "print(\"Example data point [2,1,1]:\", data_trial[1, 0, 0])  # Corresponds to the start of the second week"
   ]
  },
  {
   "cell_type": "code",
   "execution_count": 82,
   "id": "949e250a-3405-4880-9b9d-93f57c24a2fb",
   "metadata": {
    "scrolled": true
   },
   "outputs": [],
   "source": [
    "# data_trial"
   ]
  },
  {
   "cell_type": "code",
   "execution_count": 88,
   "id": "32415aee-3544-409f-9d65-2f01c7c386ea",
   "metadata": {},
   "outputs": [
    {
     "data": {
      "text/plain": [
       "<matplotlib.image.AxesImage at 0x1dea5755c10>"
      ]
     },
     "execution_count": 88,
     "metadata": {},
     "output_type": "execute_result"
    },
    {
     "data": {
      "image/png": "[encoded data removed]",
      "text/plain": [
       "<Figure size 640x480 with 1 Axes>"
      ]
     },
     "metadata": {},
     "output_type": "display_data"
    }
   ],
   "source": [
    "plt.imshow(data_trial[0,::,::], aspect=\"auto\", cmap=\"plasma\") # Extracts a 2D array representing all days (rows) and all hours (columns) for the first week."
   ]
  },
  {
   "cell_type": "code",
   "execution_count": 90,
   "id": "9821f147-b8d3-4588-b8aa-8fc826a9f341",
   "metadata": {},
   "outputs": [
    {
     "data": {
      "text/plain": [
       "<matplotlib.image.AxesImage at 0x1dea53abfe0>"
      ]
     },
     "execution_count": 90,
     "metadata": {},
     "output_type": "execute_result"
    },
    {
     "data": {
      "image/png": "[encoded data removed]",
      "text/plain": [
       "<Figure size 640x480 with 1 Axes>"
      ]
     },
     "metadata": {},
     "output_type": "display_data"
    }
   ],
   "source": [
    "plt.imshow(data_trial[::,0,::], aspect=\"auto\", cmap=\"plasma\") # Extracts a 2D array representing the hours of the first day in each week (from 1 to 24).\n",
    "# x-axis (columns): Represents the hours of the first day in each week (from 1 to 24).\n",
    "# y-axis (rows): Represents the weeks.\n",
    "# Color intensity: Represents the values from the array corresponding to each hour on the first day of each week."
   ]
  },
  {
   "cell_type": "code",
   "execution_count": 91,
   "id": "7821f914-0d38-4a49-84c8-bba3a8aa231e",
   "metadata": {},
   "outputs": [
    {
     "data": {
      "text/plain": [
       "<matplotlib.image.AxesImage at 0x1dea6bce150>"
      ]
     },
     "execution_count": 91,
     "metadata": {},
     "output_type": "execute_result"
    },
    {
     "data": {
      "image/png": "[encoded data removed]",
      "text/plain": [
       "<Figure size 640x480 with 1 Axes>"
      ]
     },
     "metadata": {},
     "output_type": "display_data"
    }
   ],
   "source": [
    "plt.imshow(data_3d[::,::,0], aspect=\"auto\", cmap=\"plasma\")\n",
    "# x-axis (columns): Represents the days in a week (from 1 to 7).\n",
    "# y-axis (rows): Represents the weeks.\n",
    "# Color intensity: Represents the values for the first hour (Hour 1) on each day, across all weeks."
   ]
  }
 ],
 "metadata": {
  "kernelspec": {
   "display_name": "Python 3 (ipykernel)",
   "language": "python",
   "name": "python3"
  },
  "language_info": {
   "codemirror_mode": {
    "name": "ipython",
    "version": 3
   },
   "file_extension": ".py",
   "mimetype": "text/x-python",
   "name": "python",
   "nbconvert_exporter": "python",
   "pygments_lexer": "ipython3",
   "version": "3.12.3"
  }
 },
 "nbformat": 4,
 "nbformat_minor": 5
}
