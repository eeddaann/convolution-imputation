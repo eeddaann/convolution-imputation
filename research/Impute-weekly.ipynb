{
 "cells": [
  {
   "cell_type": "markdown",
   "id": "62918e01",
   "metadata": {},
   "source": [
    "# Impute Weekly"
   ]
  },
  {
   "cell_type": "code",
   "execution_count": 1,
   "id": "c0a95110",
   "metadata": {},
   "outputs": [],
   "source": [
    "import pandas as pd\n",
    "import numpy as np\n",
    "import matplotlib.pyplot as plt\n",
    "from astropy.convolution import interpolate_replace_nans, Gaussian2DKernel\n",
    "import sys\n",
    "sys.path.append('../conv_imputer')\n",
    "import gen_synth"
   ]
  },
  {
   "cell_type": "code",
   "execution_count": 2,
   "id": "f3ca4a11",
   "metadata": {},
   "outputs": [
    {
     "data": {
      "text/plain": [
       "2023-01-02 00:00:00    4.000000\n",
       "2023-01-02 01:00:00    4.261437\n",
       "2023-01-02 02:00:00    4.437959\n",
       "2023-01-02 03:00:00    4.519890\n",
       "2023-01-02 04:00:00    4.503898\n",
       "                         ...   \n",
       "2023-01-29 19:00:00    2.089548\n",
       "2023-01-29 20:00:00    2.473763\n",
       "2023-01-29 21:00:00    2.881748\n",
       "2023-01-29 22:00:00    3.288499\n",
       "2023-01-29 23:00:00    3.669016\n",
       "Freq: H, Length: 672, dtype: float64"
      ]
     },
     "execution_count": 2,
     "metadata": {},
     "output_type": "execute_result"
    }
   ],
   "source": [
    "data = gen_synth.weekly_daily_signal()\n",
    "data"
   ]
  },
  {
   "cell_type": "code",
   "execution_count": 3,
   "id": "1dc16235",
   "metadata": {},
   "outputs": [],
   "source": [
    "def get_pivoted_weekly(data):\n",
    "    df = pd.DataFrame(data)\n",
    "    df[\"updatetime\"]  = data.index\n",
    "    df[\"week_start\"] = df[\"updatetime\"].dt.to_period('W-SUN').apply(lambda r: r.start_time)\n",
    "    df[\"tow\"] = df['updatetime'] - df['week_start']\n",
    "    pivoted = pd.pivot_table(df, values = 0, index=['week_start'], columns = 'tow').reset_index()\n",
    "    return pivoted.replace(-666,np.nan)"
   ]
  },
  {
   "cell_type": "code",
   "execution_count": 4,
   "id": "9c548b86",
   "metadata": {},
   "outputs": [],
   "source": [
    "missing_pattern  = gen_synth.uniform_random_missing_patterns(get_pivoted_weekly(data).iloc[:,1:], num_patterns=1, num_missings=30)"
   ]
  },
  {
   "cell_type": "code",
   "execution_count": 5,
   "id": "9ffe402f",
   "metadata": {},
   "outputs": [],
   "source": [
    "data.iloc[missing_pattern[0].flatten().nonzero()] = np.nan # set missing values"
   ]
  },
  {
   "cell_type": "code",
   "execution_count": 6,
   "id": "1024ce0f",
   "metadata": {},
   "outputs": [],
   "source": [
    "x_size,y_size=11, 5\n",
    "x_stddev,y_stddev=1.28,0.46\n",
    "kernel  = Gaussian2DKernel(x_stddev = x_stddev,y_stddev = y_stddev,x_size = x_size,y_size = y_size)\n",
    "\n",
    "def _impute_conv_array(data, kernel):\n",
    "    pivoted = get_pivoted_weekly(data).drop([\"week_start\"],axis=1).values.copy()\n",
    "    pad_width = max(kernel.shape[0],kernel.shape[1]) //2\n",
    "    padded = np.pad(pivoted.copy(),mode='edge',pad_width=pad_width)\n",
    "    interpolated = interpolate_replace_nans(padded, kernel)\n",
    "    return interpolated[pad_width:-pad_width,pad_width:-pad_width]\n",
    "\n",
    "def impute(data, kernel):\n",
    "    pivoted = get_pivoted_weekly(data)\n",
    "    restored = pivoted.set_index('week_start').unstack([0]).reset_index()\n",
    "    restored.index = pd.to_datetime(restored.week_start) + pd.to_timedelta(restored['tow'])\n",
    "    restored = restored.sort_index()\n",
    "    restored[\"mean_hr\"] = _impute_conv_array(data, kernel).flatten()\n",
    "    restored[\"is_imputed\"] = restored[\"mean_hr\"] - restored[0]\n",
    "    restored[\"is_imputed\"] = restored[\"is_imputed\"].replace(np.nan,True)\n",
    "    restored = restored.drop([0,\"tow\",\"week_start\"],axis=1)\n",
    "    return restored"
   ]
  },
  {
   "cell_type": "code",
   "execution_count": 7,
   "id": "3835da13",
   "metadata": {},
   "outputs": [
    {
     "data": {
      "text/html": [
       "<div>\n",
       "<style scoped>\n",
       "    .dataframe tbody tr th:only-of-type {\n",
       "        vertical-align: middle;\n",
       "    }\n",
       "\n",
       "    .dataframe tbody tr th {\n",
       "        vertical-align: top;\n",
       "    }\n",
       "\n",
       "    .dataframe thead th {\n",
       "        text-align: right;\n",
       "    }\n",
       "</style>\n",
       "<table border=\"1\" class=\"dataframe\">\n",
       "  <thead>\n",
       "    <tr style=\"text-align: right;\">\n",
       "      <th></th>\n",
       "      <th>mean_hr</th>\n",
       "      <th>is_imputed</th>\n",
       "    </tr>\n",
       "  </thead>\n",
       "  <tbody>\n",
       "    <tr>\n",
       "      <th>2023-01-02 00:00:00</th>\n",
       "      <td>4.000000</td>\n",
       "      <td>0.0</td>\n",
       "    </tr>\n",
       "    <tr>\n",
       "      <th>2023-01-02 01:00:00</th>\n",
       "      <td>4.261437</td>\n",
       "      <td>0.0</td>\n",
       "    </tr>\n",
       "    <tr>\n",
       "      <th>2023-01-02 02:00:00</th>\n",
       "      <td>4.437959</td>\n",
       "      <td>0.0</td>\n",
       "    </tr>\n",
       "    <tr>\n",
       "      <th>2023-01-02 03:00:00</th>\n",
       "      <td>4.519890</td>\n",
       "      <td>0.0</td>\n",
       "    </tr>\n",
       "    <tr>\n",
       "      <th>2023-01-02 04:00:00</th>\n",
       "      <td>4.503898</td>\n",
       "      <td>0.0</td>\n",
       "    </tr>\n",
       "    <tr>\n",
       "      <th>...</th>\n",
       "      <td>...</td>\n",
       "      <td>...</td>\n",
       "    </tr>\n",
       "    <tr>\n",
       "      <th>2023-01-29 19:00:00</th>\n",
       "      <td>2.089548</td>\n",
       "      <td>0.0</td>\n",
       "    </tr>\n",
       "    <tr>\n",
       "      <th>2023-01-29 20:00:00</th>\n",
       "      <td>2.473763</td>\n",
       "      <td>0.0</td>\n",
       "    </tr>\n",
       "    <tr>\n",
       "      <th>2023-01-29 21:00:00</th>\n",
       "      <td>2.881748</td>\n",
       "      <td>0.0</td>\n",
       "    </tr>\n",
       "    <tr>\n",
       "      <th>2023-01-29 22:00:00</th>\n",
       "      <td>3.197309</td>\n",
       "      <td>True</td>\n",
       "    </tr>\n",
       "    <tr>\n",
       "      <th>2023-01-29 23:00:00</th>\n",
       "      <td>3.669016</td>\n",
       "      <td>0.0</td>\n",
       "    </tr>\n",
       "  </tbody>\n",
       "</table>\n",
       "<p>672 rows × 2 columns</p>\n",
       "</div>"
      ],
      "text/plain": [
       "                      mean_hr is_imputed\n",
       "2023-01-02 00:00:00  4.000000        0.0\n",
       "2023-01-02 01:00:00  4.261437        0.0\n",
       "2023-01-02 02:00:00  4.437959        0.0\n",
       "2023-01-02 03:00:00  4.519890        0.0\n",
       "2023-01-02 04:00:00  4.503898        0.0\n",
       "...                       ...        ...\n",
       "2023-01-29 19:00:00  2.089548        0.0\n",
       "2023-01-29 20:00:00  2.473763        0.0\n",
       "2023-01-29 21:00:00  2.881748        0.0\n",
       "2023-01-29 22:00:00  3.197309       True\n",
       "2023-01-29 23:00:00  3.669016        0.0\n",
       "\n",
       "[672 rows x 2 columns]"
      ]
     },
     "execution_count": 7,
     "metadata": {},
     "output_type": "execute_result"
    }
   ],
   "source": [
    "impute(data, kernel)"
   ]
  },
  {
   "cell_type": "code",
   "execution_count": 8,
   "id": "5815c8e5",
   "metadata": {},
   "outputs": [],
   "source": [
    "def plot(data, kernel):\n",
    "    fig, (ax1, ax2) = plt.subplots(1, 2, sharey=True, figsize=(22, 5))\n",
    "    pivoted = get_pivoted_weekly(data)\n",
    "    ax1.imshow(pivoted.iloc[:,1:], aspect='auto')\n",
    "    ax1.set_title('Before')\n",
    "    ax1.set_xticks(list(range(0,168,24)),[\"Monday\",\"Tuesday\",\"Wednesday\",\"Thursday\",\"Friday\",\"Saturday\",\"Sunday\"])\n",
    "    ax1.set_yticks(list(pivoted.iloc[::1].index),list(pivoted.iloc[::1].week_start.apply(lambda x: x.strftime('%Y-%m-%d'))))\n",
    "    imputed = _impute_conv_array(data, kernel)\n",
    "    ax2.imshow(imputed, aspect='auto')\n",
    "    ax2.set_title('After')\n",
    "    ax2.set_xticks(list(range(0,168,24)),[\"Monday\",\"Tuesday\",\"Wednesday\",\"Thursday\",\"Friday\",\"Saturday\",\"Sunday\"])\n",
    "    ax2.set_yticks(list(pivoted.iloc[::1].index),list(pivoted.iloc[::1].week_start.apply(lambda x: x.strftime('%Y-%m-%d'))))\n",
    "    fig.suptitle('Data Imputation', fontsize=16)\n",
    "    plt.figure()"
   ]
  },
  {
   "cell_type": "code",
   "execution_count": 9,
   "id": "b34d5b23",
   "metadata": {},
   "outputs": [
    {
     "data": {
      "image/png": "[encoded data removed]",
      "text/plain": [
       "<Figure size 1584x360 with 2 Axes>"
      ]
     },
     "metadata": {
      "needs_background": "light"
     },
     "output_type": "display_data"
    },
    {
     "data": {
      "text/plain": [
       "<Figure size 432x288 with 0 Axes>"
      ]
     },
     "metadata": {},
     "output_type": "display_data"
    }
   ],
   "source": [
    "plot(data, kernel)"
   ]
  }
 ],
 "metadata": {
  "kernelspec": {
   "display_name": "Python 3 (ipykernel)",
   "language": "python",
   "name": "python3"
  },
  "language_info": {
   "codemirror_mode": {
    "name": "ipython",
    "version": 3
   },
   "file_extension": ".py",
   "mimetype": "text/x-python",
   "name": "python",
   "nbconvert_exporter": "python",
   "pygments_lexer": "ipython3",
   "version": "3.9.12"
  }
 },
 "nbformat": 4,
 "nbformat_minor": 5
}
